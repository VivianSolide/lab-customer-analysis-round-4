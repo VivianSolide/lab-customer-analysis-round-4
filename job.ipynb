{
 "metadata": {
  "language_info": {
   "codemirror_mode": {
    "name": "ipython",
    "version": 3
   },
   "file_extension": ".py",
   "mimetype": "text/x-python",
   "name": "python",
   "nbconvert_exporter": "python",
   "pygments_lexer": "ipython3",
   "version": "3.8.2-final"
  },
  "orig_nbformat": 2,
  "kernelspec": {
   "name": "Python 3.8.2 64-bit",
   "display_name": "Python 3.8.2 64-bit",
   "metadata": {
    "interpreter": {
     "hash": "31f2aee4e71d21fbe5cf8b01ff0e069b9275f58929596ceb00d14d90e3e16cd6"
    }
   }
  }
 },
 "nbformat": 4,
 "nbformat_minor": 2,
 "cells": [
  {
   "cell_type": "code",
   "execution_count": 248,
   "metadata": {},
   "outputs": [
    {
     "output_type": "stream",
     "name": "stdout",
     "text": [
      "Statistics=6779.292, p=0.000\n                               OLS Regression Results                              \n===================================================================================\nDep. Variable:     Customer Lifetime Value   R-squared:                       0.160\nModel:                                 OLS   Adj. R-squared:                  0.160\nMethod:                      Least Squares   F-statistic:                     248.6\nDate:                     Wed, 07 Oct 2020   Prob (F-statistic):               0.00\nTime:                             20:36:23   Log-Likelihood:                -92862.\nNo. Observations:                     9134   AIC:                         1.857e+05\nDf Residuals:                         9126   BIC:                         1.858e+05\nDf Model:                                7                                         \nCovariance Type:                 nonrobust                                         \n=================================================================================================\n                                    coef    std err          t      P>|t|      [0.025      0.975]\n-------------------------------------------------------------------------------------------------\nconst                           131.4138    274.191      0.479      0.632    -406.063     668.890\nIncome                            0.0050      0.002      2.060      0.039       0.000       0.010\nMonthly Premium Auto             82.6770      2.582     32.027      0.000      77.617      87.737\nMonths Since Last Claim           6.9866      6.552      1.066      0.286      -5.858      19.831\nMonths Since Policy Inception     0.4687      2.365      0.198      0.843      -4.167       5.105\nNumber of Open Complaints      -238.0521     72.412     -3.287      0.001    -379.996     -96.108\nNumber of Policies               76.7845     27.583      2.784      0.005      22.715     130.854\nTotal Claim Amount               -0.6586      0.327     -2.014      0.044      -1.300      -0.018\n==============================================================================\nOmnibus:                     5684.197   Durbin-Watson:                   1.996\nProb(Omnibus):                  0.000   Jarque-Bera (JB):            65358.256\nSkew:                           2.861   Prob(JB):                         0.00\nKurtosis:                      14.789   Cond. No.                     2.01e+05\n==============================================================================\n\nNotes:\n[1] Standard Errors assume that the covariance matrix of the errors is correctly specified.\n[2] The condition number is large, 2.01e+05. This might indicate that there are\nstrong multicollinearity or other numerical problems.\n"
     ]
    }
   ],
   "source": [
    "import pandas as pd\n",
    "import numpy as np\n",
    "from scipy import stats\n",
    "import seaborn as sns\n",
    "\n",
    "import matplotlib.pyplot as plt\n",
    "%matplotlib inline\n",
    "\n",
    "file1 = pd.read_csv(\"./files_for_lab/marketing_customer_analysis.csv\")\n",
    "\n",
    "# 1. Show the dataframe shape.\n",
    "# print(file1.shape)\n",
    "\n",
    "# 2. Standardize header names.\n",
    "# print(file1.columns.values.tolist())\n",
    "\n",
    "# 3. Which columns are numerical?\n",
    "numerics = ['int16', 'int32', 'int64', 'float16', 'float32', 'float64']\n",
    "# print(file1.select_dtypes(include=numerics))\n",
    "\n",
    "# 4. Which columns are categorical?\n",
    "# print(file1.select_dtypes(exclude=numerics))\n",
    "\n",
    "# 5. Check and deal with `NaN` values.\n",
    "file1.isnull().sum()\n",
    "\n",
    "# 6. Datetime format.\n",
    "file1[\"Effective To Date\"] = pd.to_datetime(file1[\"Effective To Date\"])\n",
    "\n",
    "# 7. BONUS: Put all the previously mentioned data transformations into a function.\n",
    "\n",
    "### Explore the data\n",
    "\n",
    "# - Show DataFrame info.\n",
    "# print(file1.info())\n",
    "\n",
    "# - Describe DataFrame.\n",
    "# print(file1.describe())\n",
    "\n",
    "# - Show a plot of the total number of responses.\n",
    "# plt.hist(file1[\"Response\"])\n",
    "# plt.show()\n",
    "\n",
    "# - Show a plot of the response rate by the sales channel.\n",
    "# sns.countplot(x=\"Sales Channel\", hue=\"Response\", data=file1)\n",
    "# plt.show()\n",
    "# - Show a plot of the response rate by the total claim amount.\n",
    "# sns.countplot(x=\"Total Claim Amount\", hue=\"Response\", data=file1)\n",
    "# plt.show()\n",
    "# - Show a plot of the response rate by income.\n",
    "# sns.countplot(x=\"Income\", hue=\"Response\", data=file1, bins=1000)\n",
    "# plt.show()\n",
    "\n",
    "# - Get the numeric data.\n",
    "\n",
    "numerics = ['int16', 'int32', 'int64', 'float16', 'float32', 'float64']\n",
    "file1 = file1.select_dtypes(include=numerics)\n",
    "\n",
    "numerical_columns = [\n",
    "    \"Customer Lifetime Value\",\n",
    "    \"Income\",\n",
    "    \"Monthly Premium Auto\",\n",
    "    \"Months Since Last Claim\",\n",
    "    \"Months Since Policy Inception\",\n",
    "    \"Number of Open Complaints\",\n",
    "    \"Number of Policies\",\n",
    "    \"Total Claim Amount\",\n",
    "]\n",
    "\n",
    "# - Check normality (Customer Lifetime Value).\n",
    "\n",
    "clv = file1[\"Customer Lifetime Value\"]\n",
    "\n",
    "sample_size = np.random.randint(low=1000, high=len(clv))\n",
    "sample_result = clv[sample_size-1000: sample_size]\n",
    "\n",
    "x = np.concatenate((sample_result, clv))\n",
    "\n",
    "stat, p = stats.normaltest(x)\n",
    "print('Statistics=%.3f, p=%.3f' % (stat, p))\n",
    "\n",
    "# - Check multicollinearity.\n",
    "\n",
    "import statsmodels\n",
    "\n",
    "Y = clv\n",
    "X = file1.drop(['Customer Lifetime Value'], axis=1)\n",
    "\n",
    "X = sm.add_constant(X)\n",
    "model = statsmodels.regression.linear_model.OLS(Y,X).fit()\n",
    "print(model.summary())\n",
    "\n"
   ]
  }
 ]
}