{
 "metadata": {
  "language_info": {
   "codemirror_mode": {
    "name": "ipython",
    "version": 3
   },
   "file_extension": ".py",
   "mimetype": "text/x-python",
   "name": "python",
   "nbconvert_exporter": "python",
   "pygments_lexer": "ipython3",
   "version": "3.8.2-final"
  },
  "orig_nbformat": 2,
  "kernelspec": {
   "name": "Python 3.8.2 64-bit",
   "display_name": "Python 3.8.2 64-bit",
   "metadata": {
    "interpreter": {
     "hash": "31f2aee4e71d21fbe5cf8b01ff0e069b9275f58929596ceb00d14d90e3e16cd6"
    }
   }
  }
 },
 "nbformat": 4,
 "nbformat_minor": 2,
 "cells": [
  {
   "cell_type": "code",
   "execution_count": 218,
   "metadata": {},
   "outputs": [
    {
     "output_type": "stream",
     "name": "stdout",
     "text": [
      "Statistics=6675.418, p=0.000\n"
     ]
    }
   ],
   "source": [
    "import pandas as pd\n",
    "import numpy as np\n",
    "from scipy import stats\n",
    "import seaborn as sns\n",
    "\n",
    "import matplotlib.pyplot as plt\n",
    "%matplotlib inline\n",
    "\n",
    "file1 = pd.read_csv(\"./files_for_lab/marketing_customer_analysis.csv\")\n",
    "\n",
    "# 1. Show the dataframe shape.\n",
    "# print(file1.shape)\n",
    "\n",
    "# 2. Standardize header names.\n",
    "# print(file1.columns.values.tolist())\n",
    "\n",
    "# 3. Which columns are numerical?\n",
    "numerics = ['int16', 'int32', 'int64', 'float16', 'float32', 'float64']\n",
    "# print(file1.select_dtypes(include=numerics))\n",
    "\n",
    "# 4. Which columns are categorical?\n",
    "# print(file1.select_dtypes(exclude=numerics))\n",
    "\n",
    "# 5. Check and deal with `NaN` values.\n",
    "file1.isnull().sum()\n",
    "\n",
    "# 6. Datetime format.\n",
    "file1[\"Effective To Date\"] = pd.to_datetime(file1[\"Effective To Date\"])\n",
    "\n",
    "# 7. BONUS: Put all the previously mentioned data transformations into a function.\n",
    "\n",
    "### Explore the data\n",
    "\n",
    "# - Show DataFrame info.\n",
    "# print(file1.info())\n",
    "\n",
    "# - Describe DataFrame.\n",
    "# print(file1.describe())\n",
    "\n",
    "# - Show a plot of the total number of responses.\n",
    "# plt.hist(file1[\"Response\"])\n",
    "# plt.show()\n",
    "\n",
    "# - Show a plot of the response rate by the sales channel.\n",
    "# sns.countplot(x=\"Sales Channel\", hue=\"Response\", data=file1)\n",
    "# plt.show()\n",
    "# - Show a plot of the response rate by the total claim amount.\n",
    "# sns.countplot(x=\"Total Claim Amount\", hue=\"Response\", data=file1)\n",
    "# plt.show()\n",
    "# - Show a plot of the response rate by income.\n",
    "# sns.countplot(x=\"Income\", hue=\"Response\", data=file1, bins=1000)\n",
    "# plt.show()\n",
    "\n",
    "# - Get the numeric data.\n",
    "\n",
    "numerical_columns = [\n",
    "    \"Customer Lifetime Value\",\n",
    "    \"Income\",\n",
    "    \"Monthly Premium Auto\",\n",
    "    \"Months Since Last Claim\",\n",
    "    \"Months Since Policy Inception\",\n",
    "    \"Number of Open Complaints\",\n",
    "    \"Number of Policies\",\n",
    "    \"Total Claim Amount\",\n",
    "]\n",
    "\n",
    "# - Check normality (Customer Lifetime Value).\n",
    "\n",
    "clv = file1[\"Customer Lifetime Value\"]\n",
    "\n",
    "sample_size = np.random.randint(low=1000, high=len(clv))\n",
    "sample_result = clv[sample_size-1000: sample_size]\n",
    "\n",
    "x = np.concatenate((sample_result, clv))\n",
    "\n",
    "stat, p = stats.normaltest(x)\n",
    "print('Statistics=%.3f, p=%.3f' % (stat, p))\n",
    "\n",
    "# - Check multicollinearity.\n",
    "\n"
   ]
  }
 ]
}